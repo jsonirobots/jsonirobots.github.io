{
 "cells": [
  {
   "cell_type": "markdown",
   "metadata": {},
   "source": [
    "# eVTOL Flying Wing\n",
    "![](images/InAirFrame2.jpg)\n",
    "## Description\n",
    "This aircraft was built during a 10-week internship at UMD's UAS Research and Operations Center (UROC). The goal of this project was to start with a very efficient horizontal flight aircraft (a flying wing) and make minimal modifications to achieve VTOL (vertical take-off and lift) capability. \n",
    "\n",
    "Noteworthy technical elements:\n",
    "1. [2DOF Gimballed Motor](evtol_v1.ipynb#gimballed-motor)\n",
    "2. [3D Printed airframe with foam skin](evtol_v1.ipynb#3d-printed-structure)\n",
    " \n",
    "## Gimballed Motor\n",
    "## 3D Printed Structure\n"
   ]
  },
  {
   "cell_type": "markdown",
   "metadata": {},
   "source": []
  }
 ],
 "metadata": {
  "language_info": {
   "codemirror_mode": {
    "name": "ipython",
    "version": 3
   },
   "file_extension": ".py",
   "mimetype": "text/x-python",
   "name": "python",
   "nbconvert_exporter": "python",
   "pygments_lexer": "ipython3",
   "version": "3.12.4"
  }
 },
 "nbformat": 4,
 "nbformat_minor": 2
}